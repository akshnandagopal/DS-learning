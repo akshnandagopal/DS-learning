{
 "cells": [
  {
   "cell_type": "markdown",
   "metadata": {},
   "source": [
    "Module 1 and Module 2 - Case study 1"
   ]
  },
  {
   "cell_type": "code",
   "execution_count": 29,
   "metadata": {},
   "outputs": [
    {
     "name": "stdout",
     "output_type": "stream",
     "text": [
      "The factors are: [1, 3, 9]\n",
      "1 is Odd\n",
      "3 is Odd\n",
      "9 is Odd\n"
     ]
    }
   ],
   "source": [
    "#1 even or odd factors\n",
    "\n",
    "def Even_or_odd_factors(num):\n",
    "    factor_list = []\n",
    "    for i in range(1,num):\n",
    "        if(num % i == 0):\n",
    "            factor_list.append(i)\n",
    "    if len(factor_list) ==1:\n",
    "        print(\"1 is the only factor of {}\".format(num))\n",
    "    else:\n",
    "        print(\"The factors are:\", factor_list)\n",
    "        for factor in factor_list:\n",
    "            if(factor % 2 == 0):\n",
    "                print(\"{} is Even\".format(factor))\n",
    "            else:\n",
    "                print(\"{} is Odd\".format(factor))\n",
    "\n",
    "num = int(input(\"Enter number to be checked\"))\n",
    "Even_or_odd_factors(num)\n"
   ]
  },
  {
   "cell_type": "code",
   "execution_count": 15,
   "metadata": {},
   "outputs": [
    {
     "name": "stdout",
     "output_type": "stream",
     "text": [
      "['allowed', 'attachment', 'in', 'limit', 'outlook', 'size']\n"
     ]
    }
   ],
   "source": [
    "#2 sort words\n",
    "\n",
    "words = input(\"\")\n",
    "words_list = sorted(words.split())\n",
    "print(words_list)\n",
    "    \n",
    "   \n",
    "#allowed attachment size limit in outlook\n"
   ]
  },
  {
   "cell_type": "code",
   "execution_count": null,
   "metadata": {},
   "outputs": [
    {
     "name": "stdout",
     "output_type": "stream",
     "text": [
      "2000, 2002, 2004, 2006, 2008, 2020, 2022, 2024, 2026, 2028, 2040, 2042, 2044, 2046, 2048, 2060, 2062, 2064, 2066, 2068, 2080, 2082, 2084, 2086, 2088, 2200, 2202, 2204, 2206, 2208, 2220, 2222, 2224, 2226, 2228, 2240, 2242, 2244, 2246, 2248, 2260, 2262, 2264, 2266, 2268, 2280, 2282, 2284, 2286, 2288, 2400, 2402, 2404, 2406, 2408, 2420, 2422, 2424, 2426, 2428, 2440, 2442, 2444, 2446, 2448, 2460, 2462, 2464, 2466, 2468, 2480, 2482, 2484, 2486, 2488, 2600, 2602, 2604, 2606, 2608, 2620, 2622, 2624, 2626, 2628, 2640, 2642, 2644, 2646, 2648, 2660, 2662, 2664, 2666, 2668, 2680, 2682, 2684, 2686, 2688, 2800, 2802, 2804, 2806, 2808, 2820, 2822, 2824, 2826, 2828, 2840, 2842, 2844, 2846, 2848, 2860, 2862, 2864, 2866, 2868, 2880, 2882, 2884, 2886, 2888\n"
     ]
    }
   ],
   "source": [
    "#3  Each digit even betwwen 1000 and 3000\n",
    "\n",
    "Even_list =[]\n",
    "for n in range(1000,3001,1):  #1000, 1001\n",
    "    number = str(n)  #1000\n",
    "    if(int(number[0]) % 2 == 0 and int(number[1]) % 2 == 0 and int(number[2]) % 2 == 0 and int(number[3]) % 2 == 0):\n",
    "        Even_list.append(number)\n",
    "separator = \", \"\n",
    "Desired_output = separator.join(Even_list)\n",
    "print(Desired_output)\n"
   ]
  },
  {
   "cell_type": "code",
   "execution_count": 16,
   "metadata": {},
   "outputs": [
    {
     "name": "stdout",
     "output_type": "stream",
     "text": [
      "LETTERS:15\n",
      "DIGITS:6\n"
     ]
    }
   ],
   "source": [
    "#4 Letter and Digit count\n",
    "\n",
    "letters = 0\n",
    "numbers = 0\n",
    "sent = input(\"Enter a sentence\")\n",
    "for c in sent:\n",
    " if(c.isalpha() == True):\n",
    "  letters = letters + 1\n",
    " else:\n",
    "  numbers = numbers + 1\n",
    "print(\"LETTERS:{}\\nDIGITS:{}\".format(letters, numbers))"
   ]
  },
  {
   "cell_type": "code",
   "execution_count": null,
   "metadata": {},
   "outputs": [
    {
     "name": "stdout",
     "output_type": "stream",
     "text": [
      "Palindrome\n"
     ]
    }
   ],
   "source": [
    "#5 Number palindrome\n",
    "\n",
    "#Using Reversed()\n",
    "def palindrome_using_reversed(num):\n",
    "    if(str(num)== ''.join(reversed(str(num)))):\n",
    "        print(\"Palindrome\")\n",
    "    else: \n",
    "        print(\"Not a Palindrome\")\n",
    "\n",
    "num=input(\"Enter num\")\n",
    "palindrome_using_reversed(num)\n",
    "\n",
    "'''#Using [::-1]\n",
    "def palindrome(num):\n",
    "    num = num.replace(\" \",\"\")\n",
    "    reverse = num[::-1]\n",
    "    if(num==reverse):\n",
    "        print(\"Palindrom\")\n",
    "    else:\n",
    "        print(\"Not a palindrome\")\n",
    "\n",
    "num = input(\"Enter number\")\n",
    "palindrome(num)\n",
    "'''"
   ]
  }
 ],
 "metadata": {
  "kernelspec": {
   "display_name": "Python 3",
   "language": "python",
   "name": "python3"
  },
  "language_info": {
   "codemirror_mode": {
    "name": "ipython",
    "version": 3
   },
   "file_extension": ".py",
   "mimetype": "text/x-python",
   "name": "python",
   "nbconvert_exporter": "python",
   "pygments_lexer": "ipython3",
   "version": "3.11.2"
  }
 },
 "nbformat": 4,
 "nbformat_minor": 2
}
