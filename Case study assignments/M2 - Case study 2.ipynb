{
 "cells": [
  {
   "cell_type": "markdown",
   "metadata": {},
   "source": [
    "Module 2 Case study 2"
   ]
  },
  {
   "cell_type": "markdown",
   "metadata": {},
   "source": [
    "Output\n",
    "\n",
    "1. 4\n",
    "2. ['john', 'peter']\n"
   ]
  },
  {
   "cell_type": "code",
   "execution_count": 26,
   "metadata": {},
   "outputs": [
    {
     "name": "stdout",
     "output_type": "stream",
     "text": [
      "Valid password\n"
     ]
    }
   ],
   "source": [
    "#3 valid password checker\n",
    "\n",
    "password = input(\"Enter password\")\n",
    "has_lower = any(char.islower() for char in password)\n",
    "has_upper = any(char.isupper() for char in password)\n",
    "has_number = any(char.isnumeric() for char in password)\n",
    "has_specialc = any(char in '$#@' for char in password)\n",
    "if (len(password)>6 and len(password)<12) and has_lower and has_upper and has_number and has_specialc:\n",
    "    print(\"Valid password\")\n",
    "else:\n",
    "    print(\"Please enter a different password\")\n",
    "\n",
    "\n"
   ]
  },
  {
   "cell_type": "code",
   "execution_count": 9,
   "metadata": {},
   "outputs": [
    {
     "name": "stdout",
     "output_type": "stream",
     "text": [
      "Position 0: 4\n",
      "Position 1: 7\n",
      "Position 2: 3\n",
      "Position 3: 2\n",
      "Position 4: 5\n",
      "Position 5: 9\n"
     ]
    }
   ],
   "source": [
    "#4 print all elements in the list with index position\n",
    "\n",
    "input_list = [4,7,3,2,5,9]\n",
    "for i in range(len(input_list)):\n",
    "    print(f\"Position {i}: {input_list[i]}\")"
   ]
  },
  {
   "cell_type": "code",
   "execution_count": 10,
   "metadata": {},
   "outputs": [
    {
     "name": "stdout",
     "output_type": "stream",
     "text": [
      "Helloworld\n"
     ]
    }
   ],
   "source": [
    "#5 Even index charaters\n",
    "#H1e2l3l4o5w6o7r8l9d\n",
    "\n",
    "even_strings =[]\n",
    "input_string = input(\"Enter string\")\n",
    "for i in range(len(input_string)):\n",
    "    if(i%2 ==0):\n",
    "        even_strings.append(input_string[i])\n",
    "print(''.join(even_strings))\n",
    "        \n"
   ]
  },
  {
   "cell_type": "code",
   "execution_count": 11,
   "metadata": {},
   "outputs": [
    {
     "name": "stdout",
     "output_type": "stream",
     "text": [
      "ris etov ot esir\n"
     ]
    }
   ],
   "source": [
    "#6 reverse order string\n",
    "\n",
    "input_string = input(\"Enter string\")\n",
    "print(input_string[::-1])"
   ]
  },
  {
   "cell_type": "code",
   "execution_count": 12,
   "metadata": {},
   "outputs": [
    {
     "name": "stdout",
     "output_type": "stream",
     "text": [
      "a,2\n",
      "b,2\n",
      "c,2\n",
      "d,1\n",
      "e,1\n",
      "f,1\n",
      "g,1\n"
     ]
    }
   ],
   "source": [
    "#7 each character count \n",
    "# abcdefgabc\n",
    "\n",
    "input_string = input(\"Enter string\")  #apple\n",
    "str_dict = {char:1 for char in input_string}\n",
    "for i in range(len(input_string)):   # 0 to 5\n",
    "    for j in range(i+1,len(input_string)):\n",
    "        if input_string[i] == input_string[j]:\n",
    "            str_dict[input_string[i]] +=1\n",
    "# printing                \n",
    "for key,value in str_dict.items():\n",
    "    print(f\"{key},{value}\")\n"
   ]
  },
  {
   "cell_type": "code",
   "execution_count": 13,
   "metadata": {},
   "outputs": [
    {
     "name": "stdout",
     "output_type": "stream",
     "text": [
      "[35]\n"
     ]
    }
   ],
   "source": [
    "#8 list intersection\n",
    "#[1,3,6,78,35,55]   and   [12,24,35,24,88,120,155]\n",
    "\n",
    "list_intersection = []\n",
    "list1 = [1,3,6,78,35,55]\n",
    "list2 = [12,24,35,24,88,120,155]\n",
    "for i in range(len(list1)):\n",
    "    if list1[i] in list2:\n",
    "        list_intersection.append(list1[i])\n",
    "print(list_intersection) "
   ]
  },
  {
   "cell_type": "code",
   "execution_count": 14,
   "metadata": {},
   "outputs": [
    {
     "name": "stdout",
     "output_type": "stream",
     "text": [
      "[12, 35, 88, 120, 155]\n"
     ]
    }
   ],
   "source": [
    "#9 list comprehension remove 24\n",
    "\n",
    "input_list = [12,24,35,24,88,120,155]\n",
    "print([i for i in input_list if i!=24])"
   ]
  },
  {
   "cell_type": "code",
   "execution_count": 15,
   "metadata": {},
   "outputs": [
    {
     "name": "stdout",
     "output_type": "stream",
     "text": [
      "[24, 35, 70, 155]\n"
     ]
    }
   ],
   "source": [
    "# 10 lsit compre after removing 0th,4th and 5th position numbers\n",
    "# [12,24,35,70,88,120,155]\n",
    "# list comprehension cannot update existing list\n",
    "\n",
    "input_list = [12,24,35,70,88,120,155]\n",
    "to_delete = [0,4,5]\n",
    "print([num for i,num in enumerate(input_list) if i not in to_delete])"
   ]
  },
  {
   "cell_type": "code",
   "execution_count": 16,
   "metadata": {},
   "outputs": [
    {
     "name": "stdout",
     "output_type": "stream",
     "text": [
      "[12, 24, 88]\n"
     ]
    }
   ],
   "source": [
    "#11 list comprehension [12,24,35,70,88,120,155]\n",
    "\n",
    "print([num for num in [12,24,35,70,88,120,155] if num%5 != 0 and num%7 !=0])\n",
    "\n",
    "#another way\n",
    "\n",
    "# lst = [12,24,35,70,88,120,155]\n",
    "# for i in lst[:]:\n",
    "#     if(i%5 == 0 or i%7 ==0):\n",
    "#         lst.remove(i)\n",
    "# print([num for num in lst])\n"
   ]
  },
  {
   "cell_type": "code",
   "execution_count": 17,
   "metadata": {},
   "outputs": [
    {
     "name": "stdout",
     "output_type": "stream",
     "text": [
      "3.55\n"
     ]
    }
   ],
   "source": [
    "#12 1/2+2/3+3/4+...+n/n+1 \n",
    "\n",
    "num = int(input())      #5\n",
    "value = 0\n",
    "if(num>0):\n",
    "    for i in range(1, num+1):\n",
    "        value += i/(i+1)\n",
    "else:\n",
    "    print(\"Please provide a number greater than 0\")\n",
    "print(f\"{value:.2f}\")"
   ]
  }
 ],
 "metadata": {
  "kernelspec": {
   "display_name": "Python 3",
   "language": "python",
   "name": "python3"
  },
  "language_info": {
   "codemirror_mode": {
    "name": "ipython",
    "version": 3
   },
   "file_extension": ".py",
   "mimetype": "text/x-python",
   "name": "python",
   "nbconvert_exporter": "python",
   "pygments_lexer": "ipython3",
   "version": "3.11.2"
  }
 },
 "nbformat": 4,
 "nbformat_minor": 2
}
