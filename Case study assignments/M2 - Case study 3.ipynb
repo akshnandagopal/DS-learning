{
 "cells": [
  {
   "cell_type": "code",
   "execution_count": null,
   "metadata": {},
   "outputs": [
    {
     "name": "stdout",
     "output_type": "stream",
     "text": [
      "Defaulting to user installation because normal site-packages is not writeable\n",
      "Requirement already satisfied: maskpass in c:\\users\\akshaya.n\\appdata\\roaming\\python\\python311\\site-packages (0.3.7)\n",
      "Requirement already satisfied: pynput in c:\\users\\akshaya.n\\appdata\\roaming\\python\\python311\\site-packages (from maskpass) (1.7.7)\n",
      "Requirement already satisfied: six in c:\\users\\akshaya.n\\appdata\\roaming\\python\\python311\\site-packages (from pynput->maskpass) (1.17.0)\n",
      "Note: you may need to restart the kernel to use updated packages.\n"
     ]
    },
    {
     "name": "stderr",
     "output_type": "stream",
     "text": [
      "\n",
      "[notice] A new release of pip available: 22.3.1 -> 25.0.1\n",
      "[notice] To update, run: python.exe -m pip install --upgrade pip\n"
     ]
    }
   ],
   "source": [
    "#pip install maskpass"
   ]
  },
  {
   "cell_type": "code",
   "execution_count": 2,
   "metadata": {},
   "outputs": [
    {
     "name": "stdout",
     "output_type": "stream",
     "text": [
      "Encrypted Reference ID: MTIzNDU2Nzg5MTJB\n"
     ]
    }
   ],
   "source": [
    "import base64\n",
    "\n",
    "def encrypt_reference_id(ref_id):\n",
    "    ref_id_bytes = ref_id.encode('utf-8')\n",
    "    encrypted_bytes = base64.b64encode(ref_id_bytes)\n",
    "    encrypted_ref_id = encrypted_bytes.decode('utf-8')\n",
    "    return encrypted_ref_id\n",
    "\n",
    "def decrypt_reference_id(encrypted_ref_id):\n",
    "    encrypted_bytes = encrypted_ref_id.encode('utf-8')\n",
    "    ref_id_bytes = base64.b64decode(encrypted_bytes)\n",
    "    ref_id = ref_id_bytes.decode('utf-8')\n",
    "    return ref_id\n",
    "\n",
    "def is_valid_reference_id(ref_id):\n",
    "    return len(ref_id) == 12\n",
    "\n",
    "ref_id = input(\"Enter your Reference ID: \")\n",
    "choice = int(input(\"1. Encrypt 2. Decrypt\"))\n",
    "if choice == 2:\n",
    "        decrypted_ref_id = decrypt_reference_id(encrypted_ref_id)\n",
    "        print(f\"Decrypted Reference ID: {decrypted_ref_id}\")\n",
    "elif(choice == 1):\n",
    "    if not is_valid_reference_id(ref_id):\n",
    "         print(\"Invalid Reference ID\")\n",
    "    else:\n",
    "        encrypted_ref_id = encrypt_reference_id(ref_id)\n",
    "        print(f\"Encrypted Reference ID: {encrypted_ref_id}\")\n",
    "\n"
   ]
  }
 ],
 "metadata": {
  "kernelspec": {
   "display_name": "Python 3",
   "language": "python",
   "name": "python3"
  },
  "language_info": {
   "codemirror_mode": {
    "name": "ipython",
    "version": 3
   },
   "file_extension": ".py",
   "mimetype": "text/x-python",
   "name": "python",
   "nbconvert_exporter": "python",
   "pygments_lexer": "ipython3",
   "version": "3.11.2"
  }
 },
 "nbformat": 4,
 "nbformat_minor": 2
}
