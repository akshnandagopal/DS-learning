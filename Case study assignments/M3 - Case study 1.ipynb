{
 "cells": [
  {
   "cell_type": "markdown",
   "metadata": {},
   "source": [
    "Module 3 Case study 1"
   ]
  },
  {
   "cell_type": "code",
   "execution_count": 39,
   "metadata": {},
   "outputs": [],
   "source": [
    "import math"
   ]
  },
  {
   "cell_type": "code",
   "execution_count": null,
   "metadata": {},
   "outputs": [
    {
     "name": "stdout",
     "output_type": "stream",
     "text": [
      "Current position of Robot is (-1,2)\n",
      "Distane between current position and origin point is  2.24\n"
     ]
    }
   ],
   "source": [
    "#1 robot\n",
    "#UP 5 DOWN 3 LEFT 3 RIGHT 2\n",
    "\n",
    "originx,originy = (0,0)\n",
    "x,y = (0,0)\n",
    "direction = {'UP': 5, 'DOWN': 3, 'LEFT': 3, 'RIGHT': 2}\n",
    "for key, value in direction.items():\n",
    "    if(key == 'UP'):\n",
    "        x,y=x,y+value\n",
    "    elif(key == 'DOWN'):\n",
    "        x,y=x,y-value\n",
    "    elif(key == 'LEFT'):\n",
    "        x,y=x-value,y\n",
    "    elif(key == 'RIGHT'):\n",
    "        x,y=x+value,y\n",
    "distance = math.sqrt(math.pow(x-originx,2)+math.pow(y-originy,2))\n",
    "print(f\"Current position of Robot is ({x},{y})\")\n",
    "print(f\"Distane between current position and origin point is {distance: .2f}\",)\n",
    "\n"
   ]
  },
  {
   "cell_type": "code",
   "execution_count": 34,
   "metadata": {},
   "outputs": [
    {
     "name": "stdout",
     "output_type": "stream",
     "text": [
      "Data 'Sales' found at index 3\n"
     ]
    }
   ],
   "source": [
    "# 2 search specific data from sorted list using if elif\n",
    "# binary search more efficient O(log n) compared to in operator O(n)\n",
    "\n",
    "sorted_list = ['Average salary','Database','Employee count','Sales']\n",
    "search = input(\"Enter data to be searched\")\n",
    "left, right =0,len(sorted_list)-1\n",
    "while(left<=right):\n",
    "    mid = (left+right)//2\n",
    "    if(sorted_list[mid] == search):\n",
    "        print(f\"Data '{search}' found at index {mid}\")\n",
    "        break\n",
    "    elif(search < sorted_list[mid]):\n",
    "        right = mid - 1\n",
    "    elif(search > sorted_list[mid]):\n",
    "        left = mid+1\n",
    "else:\n",
    "    print(\"Data not found\")\n",
    "\n",
    "# if search in sorted_list:\n",
    "#     print(\"Data found at\", sorted_list.index(search))\n",
    "# else:\n",
    "#     print(\"Element not found in data\")\n",
    "\n"
   ]
  },
  {
   "cell_type": "code",
   "execution_count": 30,
   "metadata": {},
   "outputs": [
    {
     "name": "stdout",
     "output_type": "stream",
     "text": [
      "Data found at index 3\n"
     ]
    }
   ],
   "source": [
    "sorted_list = ['Average salary', 'Database', 'Employee count', 'Sales']\n",
    "search = input(\"Enter data to be searched: \")\n",
    "left, right = 0, len(sorted_list) - 1\n",
    "\n",
    "while left <= right:\n",
    "    mid = (left + right) // 2\n",
    "    if sorted_list[mid] == search:\n",
    "        print(f\"Data found at index {mid}\")\n",
    "        break\n",
    "    elif search < sorted_list[mid]:\n",
    "        right = mid - 1\n",
    "    elif search > sorted_list[mid]:\n",
    "        left = mid + 1\n",
    "else:\n",
    "    print(\"Data not found\")\n"
   ]
  },
  {
   "cell_type": "code",
   "execution_count": 2,
   "metadata": {},
   "outputs": [],
   "source": [
    "import time"
   ]
  },
  {
   "cell_type": "code",
   "execution_count": 3,
   "metadata": {},
   "outputs": [
    {
     "name": "stdout",
     "output_type": "stream",
     "text": [
      "Current Hour: 19 Night\n"
     ]
    }
   ],
   "source": [
    "#3 weather forecasting time\n",
    "\n",
    "current_time = time.localtime().tm_hour\n",
    "if current_time in range(6,19):\n",
    "    print('Current Hour:', current_time, 'Daytime')\n",
    "else:\n",
    "    print('Current Hour:', current_time, 'Night')\n"
   ]
  },
  {
   "cell_type": "code",
   "execution_count": 1,
   "metadata": {},
   "outputs": [
    {
     "data": {
      "image/png": "[encoded data removed]",
      "text/plain": [
       "<IPython.core.display.Image object>"
      ]
     },
     "execution_count": 1,
     "metadata": {},
     "output_type": "execute_result"
    }
   ],
   "source": [
    "# Haversine formula\n",
    "\n",
    "import math\n",
    "from IPython.display import Image\n",
    "\n",
    "Image(filename=\"Haversine formula.png\")"
   ]
  },
  {
   "cell_type": "code",
   "execution_count": 2,
   "metadata": {},
   "outputs": [
    {
     "name": "stdout",
     "output_type": "stream",
     "text": [
      "Distance between the given places is  4582.12 Km\n"
     ]
    }
   ],
   "source": [
    "#4 distance btn two locations\n",
    "\n",
    "r = 6371\n",
    "lat1, long1, lat2, long2 = [int(input()) for i in range(4)]\n",
    "lat1, long1, lat2, long2 = map(math.radians, [lat1, long1, lat2, long2])\n",
    "#print(lat1,long1,lat2,long2)\n",
    "lat_delta = lat1-lat2\n",
    "long_delta = long1-long2\n",
    "sin_lat = math.sin((lat_delta)/2)\n",
    "sin_long = math.sin((long_delta)/2)\n",
    "distance = 2*r*math.asin(math.sqrt((sin_lat**2) + (math.cos(lat1)*math.cos(lat2)*(sin_long**2))))\n",
    "print(f\"Distance between the given places is {distance: .2f} Km\") \n",
    "\n"
   ]
  },
  {
   "cell_type": "code",
   "execution_count": 5,
   "metadata": {},
   "outputs": [
    {
     "name": "stdout",
     "output_type": "stream",
     "text": [
      "New password successfully set\n"
     ]
    }
   ],
   "source": [
    "# 5 Bank system software - using if else \n",
    "# cash withdrawal, cash credit,and a change password\n",
    "\n",
    "current_balance = 100000\n",
    "#user_name = input(\"Enter your user name:\")\n",
    "password = 'Asf$234'\n",
    "\n",
    "def withdraw():\n",
    "    global current_balance\n",
    "    wamount = int(input(\"Enter cash amount to withdraw: \"))\n",
    "    if(wamount<current_balance):\n",
    "        print(\"Current account balance after withdrawal is: \", current_balance-wamount)\n",
    "    else:\n",
    "        print(\"Insufficient funds\")\n",
    "\n",
    "def credit():\n",
    "    global current_balance\n",
    "    wamount = int(input(\"Enter cash amount to credit: \"))\n",
    "    print(\"Current account balance after cash credit is: \", current_balance+wamount)\n",
    "\n",
    "def change_password():\n",
    "    global password\n",
    "    oldp = input(\"Enter your old password:\")\n",
    "    if (oldp == password):\n",
    "        newp = input(\"Enter your new password:\")\n",
    "        password = newp\n",
    "        print(\"New password successfully set\")\n",
    "    else:\n",
    "        print(\"Password mismatch\")\n",
    "\n",
    "option = int(input(\"Enter your option 1. Cash withdrawal 2. Cash credit 3.Change password\"))\n",
    "if(option == 1):\n",
    "    withdraw()\n",
    "elif(option == 2):\n",
    "    credit()\n",
    "elif(option == 3):\n",
    "    change_password()\n",
    "else:\n",
    "    print(\"Entered option is unavailable\")\n",
    "\n",
    "\n",
    "# pwd = input(\"Do you know your current password? (Y/N)\")\n",
    "#     if (pwd == 'Y'):\n",
    "#         current_password = input(\"Enter your current password\")"
   ]
  },
  {
   "cell_type": "code",
   "execution_count": 3,
   "metadata": {},
   "outputs": [
    {
     "name": "stdout",
     "output_type": "stream",
     "text": [
      "2002,2009,2016,2023,2037,2044,2051,2058,2072,2079,2086,2093,2107,2114,2121,2128,2142,2149,2156,2163,2177,2184,2191,2198,2212,2219,2226,2233,2247,2254,2261,2268,2282,2289,2296,2303,2317,2324,2331,2338,2352,2359,2366,2373,2387,2394,2401,2408,2422,2429,2436,2443,2457,2464,2471,2478,2492,2499,2506,2513,2527,2534,2541,2548,2562,2569,2576,2583,2597,2604,2611,2618,2632,2639,2646,2653,2667,2674,2681,2688,2702,2709,2716,2723,2737,2744,2751,2758,2772,2779,2786,2793,2807,2814,2821,2828,2842,2849,2856,2863,2877,2884,2891,2898,2912,2919,2926,2933,2947,2954,2961,2968,2982,2989,2996,3003,3017,3024,3031,3038,3052,3059,3066,3073,3087,3094,3101,3108,3122,3129,3136,3143,3157,3164,3171,3178,3192,3199\n"
     ]
    }
   ],
   "source": [
    "#6 divisible by 7 and not a multiple of 5 btn 2000 and 3200\n",
    "\n",
    "numbers =[]\n",
    "for i in range(2000,3201,1):\n",
    "    if(i%7 == 0 and i%5 != 0):\n",
    "        numbers.append(i)\n",
    "print(','.join(map(str, numbers)))\n"
   ]
  },
  {
   "cell_type": "code",
   "execution_count": 4,
   "metadata": {},
   "outputs": [
    {
     "name": "stdout",
     "output_type": "stream",
     "text": [
      "40320\n"
     ]
    }
   ],
   "source": [
    "#7 factorial\n",
    "\n",
    "def factorial(num):\n",
    "    fact = 1\n",
    "    while(num!=0):\n",
    "        fact = fact * num\n",
    "        num = num -1\n",
    "    return fact\n",
    "\n",
    "num = int(input(\"Enter number\"))\n",
    "fact = factorial(num)\n",
    "print(fact)\n"
   ]
  },
  {
   "cell_type": "code",
   "execution_count": 5,
   "metadata": {},
   "outputs": [],
   "source": [
    "import math"
   ]
  },
  {
   "cell_type": "code",
   "execution_count": 6,
   "metadata": {},
   "outputs": [
    {
     "name": "stdout",
     "output_type": "stream",
     "text": [
      "18,22,24\n"
     ]
    }
   ],
   "source": [
    "#8 square root of list of numbers\n",
    "\n",
    "def sroot(d):\n",
    "    c,h = 50,30\n",
    "    q = math.sqrt((2*c*d)/h)\n",
    "    return q\n",
    "\n",
    "sroot_list =[]\n",
    "number_list = input(\"Enter list of numbers(comma separated)\")\n",
    "number_list = number_list.split(',')\n",
    "for i in number_list:\n",
    "    sroot_list.append(sroot(int(i)))\n",
    "print(','.join(map(str,(list(map(int,sroot_list))))))\n"
   ]
  },
  {
   "cell_type": "code",
   "execution_count": null,
   "metadata": {},
   "outputs": [
    {
     "name": "stdout",
     "output_type": "stream",
     "text": [
      "[[0, 0, 0, 0, 0], [0, 1, 2, 3, 4], [0, 2, 4, 6, 8]]\n"
     ]
    }
   ],
   "source": [
    "# 9 2d array with values i*j\n",
    "\n",
    "x,y = int(input()), int(input())   #3,5\n",
    "lst = [[i*j for j in range(y)] for i in range(x)]\n",
    "print(lst)\n",
    "\n",
    "# for i in range(x):\n",
    "#     for j in range(y):\n",
    "#         lst[i][j] =i*j"
   ]
  },
  {
   "cell_type": "code",
   "execution_count": 4,
   "metadata": {},
   "outputs": [
    {
     "name": "stdout",
     "output_type": "stream",
     "text": [
      "[[0, 0, 0, 0, 0], [0, 1, 2, 3, 4], [0, 2, 4, 6, 8]]\n"
     ]
    }
   ],
   "source": [
    "# Function to generate the 2-dimensional array\n",
    "def generate_array(X, Y):\n",
    "    array = [[i * j for j in range(Y)] for i in range(X)]\n",
    "    return array\n",
    "\n",
    "# Input X and Y\n",
    "X = int(input(\"Enter the number of rows (X): \"))\n",
    "Y = int(input(\"Enter the number of columns (Y): \"))\n",
    "\n",
    "# Generate the array\n",
    "result_array = generate_array(X, Y)\n",
    "\n",
    "# # Print the array\n",
    "# for row in result_array:\n",
    "#     print(row)\n",
    "\n",
    "print(result_array)"
   ]
  },
  {
   "cell_type": "code",
   "execution_count": 11,
   "metadata": {},
   "outputs": [
    {
     "name": "stdout",
     "output_type": "stream",
     "text": [
      "bag,hello,without,world\n"
     ]
    }
   ],
   "source": [
    "#10 alphabetical sorting of words\n",
    "\n",
    "words = input()\n",
    "words = words.split(',')\n",
    "print(','.join(sorted(words)))"
   ]
  },
  {
   "cell_type": "code",
   "execution_count": 13,
   "metadata": {},
   "outputs": [
    {
     "name": "stdout",
     "output_type": "stream",
     "text": [
      "HELLO\n",
      "HOW ARE YOU TODAY\n"
     ]
    }
   ],
   "source": [
    "#11 Capitalize all characters \n",
    "\n",
    "lines =[]\n",
    "while(True):\n",
    "    line = input()\n",
    "    if(line == \"\" or line == \" \"):\n",
    "        break\n",
    "    lines.append(line)\n",
    "for l in lines:\n",
    "    print(l.upper())\n"
   ]
  },
  {
   "cell_type": "code",
   "execution_count": 15,
   "metadata": {},
   "outputs": [
    {
     "name": "stdout",
     "output_type": "stream",
     "text": [
      "34 456 again and hello hello23 makes perfect practice world\n"
     ]
    }
   ],
   "source": [
    "# 12 remove duplicate word and print in alphanumeric order\n",
    "\n",
    "l = input()\n",
    "line = l.split(\" \")\n",
    "for i in range(len(line)):\n",
    "    for j in range(i+1, len(line)-1,1):\n",
    "        if(line[i] == line[j]):\n",
    "            del line[j]\n",
    "print(' '.join(sorted(line)))\n"
   ]
  },
  {
   "cell_type": "code",
   "execution_count": 16,
   "metadata": {},
   "outputs": [
    {
     "name": "stdout",
     "output_type": "stream",
     "text": [
      "1010\n"
     ]
    }
   ],
   "source": [
    "#13 binary input divisible by 5\n",
    "\n",
    "def binary_to_decimal(num):          #0100\n",
    "    decimal = 0\n",
    "    for i in range(len(num)-1,-1,-1):\n",
    "        decimal = decimal + (int(num[i]) * (2**i))\n",
    "    return decimal\n",
    "\n",
    "bvalue = input(\"Enter 4 digit binary numbers\")  #0100,0011,1010,1001\n",
    "bvalue = bvalue.split(',')        #[0100,0011,1010,1001]\n",
    "output = [str(num) for num in bvalue if binary_to_decimal(num) % 5 == 0]\n",
    "print(','.join(output))"
   ]
  },
  {
   "cell_type": "code",
   "execution_count": 17,
   "metadata": {},
   "outputs": [
    {
     "name": "stdout",
     "output_type": "stream",
     "text": [
      "UPPER CASE 1\n",
      "LOWER CASE 9\n"
     ]
    }
   ],
   "source": [
    "#14 count of uppercase and lowercase\n",
    "\n",
    "sent = input()\n",
    "u=0\n",
    "l=0\n",
    "for word in sent:\n",
    "    if(word.isupper()):\n",
    "        u +=1\n",
    "    elif(word.islower()):\n",
    "        l+=1\n",
    "    #else:\n",
    "     #   print(\"Sentence contains special character '{}'\".format(word))\n",
    "print(\"UPPER CASE {}\\nLOWER CASE {}\".format(u,l))"
   ]
  },
  {
   "cell_type": "code",
   "execution_count": 18,
   "metadata": {},
   "outputs": [
    {
     "name": "stdout",
     "output_type": "stream",
     "text": [
      "Output of fsum is 538.00\n",
      "Output of sum is 538\n"
     ]
    }
   ],
   "source": [
    "#15 fsum and sum function\n",
    "\n",
    "numbers = [12,24,56,35,89,322]\n",
    "print(f\"Output of fsum is {math.fsum(numbers):.2f}\\nOutput of sum is {sum(numbers)}\")"
   ]
  }
 ],
 "metadata": {
  "kernelspec": {
   "display_name": "Python 3",
   "language": "python",
   "name": "python3"
  },
  "language_info": {
   "codemirror_mode": {
    "name": "ipython",
    "version": 3
   },
   "file_extension": ".py",
   "mimetype": "text/x-python",
   "name": "python",
   "nbconvert_exporter": "python",
   "pygments_lexer": "ipython3",
   "version": "3.11.2"
  }
 },
 "nbformat": 4,
 "nbformat_minor": 2
}
