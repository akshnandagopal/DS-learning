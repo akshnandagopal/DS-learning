{
 "cells": [
  {
   "cell_type": "markdown",
   "metadata": {},
   "source": [
    "Module 5 Case study 1"
   ]
  },
  {
   "cell_type": "code",
   "execution_count": 2,
   "metadata": {},
   "outputs": [],
   "source": [
    "import pandas as pd\n",
    "import numpy as np\n",
    "import matplotlib.pyplot as plt"
   ]
  },
  {
   "cell_type": "code",
   "execution_count": 3,
   "metadata": {},
   "outputs": [
    {
     "data": {
      "text/plain": [
       "(970, 16)"
      ]
     },
     "execution_count": 3,
     "metadata": {},
     "output_type": "execute_result"
    }
   ],
   "source": [
    "# Read the data - HollywoodMovies.csv\n",
    "\n",
    "mdf = pd.read_csv('1937_m5_datasets_v1_721_pp8jgl2/HollywoodMovies.csv')\n",
    "mdf.shape"
   ]
  },
  {
   "cell_type": "code",
   "execution_count": 4,
   "metadata": {},
   "outputs": [
    {
     "data": {
      "text/html": [
       "<div>\n",
       "<style scoped>\n",
       "    .dataframe tbody tr th:only-of-type {\n",
       "        vertical-align: middle;\n",
       "    }\n",
       "\n",
       "    .dataframe tbody tr th {\n",
       "        vertical-align: top;\n",
       "    }\n",
       "\n",
       "    .dataframe thead th {\n",
       "        text-align: right;\n",
       "    }\n",
       "</style>\n",
       "<table border=\"1\" class=\"dataframe\">\n",
       "  <thead>\n",
       "    <tr style=\"text-align: right;\">\n",
       "      <th></th>\n",
       "      <th>Movie</th>\n",
       "      <th>LeadStudio</th>\n",
       "      <th>RottenTomatoes</th>\n",
       "      <th>AudienceScore</th>\n",
       "      <th>Story</th>\n",
       "      <th>Genre</th>\n",
       "      <th>TheatersOpenWeek</th>\n",
       "      <th>OpeningWeekend</th>\n",
       "      <th>BOAvgOpenWeekend</th>\n",
       "      <th>DomesticGross</th>\n",
       "      <th>ForeignGross</th>\n",
       "      <th>WorldGross</th>\n",
       "      <th>Budget</th>\n",
       "      <th>Profitability</th>\n",
       "      <th>OpenProfit</th>\n",
       "      <th>Year</th>\n",
       "    </tr>\n",
       "  </thead>\n",
       "  <tbody>\n",
       "    <tr>\n",
       "      <th>0</th>\n",
       "      <td>Spider-Man 3</td>\n",
       "      <td>Sony</td>\n",
       "      <td>61.0</td>\n",
       "      <td>54.0</td>\n",
       "      <td>Metamorphosis</td>\n",
       "      <td>Action</td>\n",
       "      <td>4252.0</td>\n",
       "      <td>151.1</td>\n",
       "      <td>35540.0</td>\n",
       "      <td>336.53</td>\n",
       "      <td>554.34</td>\n",
       "      <td>890.87</td>\n",
       "      <td>258.0</td>\n",
       "      <td>345.30</td>\n",
       "      <td>58.57</td>\n",
       "      <td>2007</td>\n",
       "    </tr>\n",
       "    <tr>\n",
       "      <th>1</th>\n",
       "      <td>Shrek the Third</td>\n",
       "      <td>Paramount</td>\n",
       "      <td>42.0</td>\n",
       "      <td>57.0</td>\n",
       "      <td>Quest</td>\n",
       "      <td>Animation</td>\n",
       "      <td>4122.0</td>\n",
       "      <td>121.6</td>\n",
       "      <td>29507.0</td>\n",
       "      <td>322.72</td>\n",
       "      <td>476.24</td>\n",
       "      <td>798.96</td>\n",
       "      <td>160.0</td>\n",
       "      <td>499.35</td>\n",
       "      <td>76.00</td>\n",
       "      <td>2007</td>\n",
       "    </tr>\n",
       "    <tr>\n",
       "      <th>2</th>\n",
       "      <td>Transformers</td>\n",
       "      <td>Paramount</td>\n",
       "      <td>57.0</td>\n",
       "      <td>89.0</td>\n",
       "      <td>Monster Force</td>\n",
       "      <td>Action</td>\n",
       "      <td>4011.0</td>\n",
       "      <td>70.5</td>\n",
       "      <td>17577.0</td>\n",
       "      <td>319.25</td>\n",
       "      <td>390.46</td>\n",
       "      <td>709.71</td>\n",
       "      <td>150.0</td>\n",
       "      <td>473.14</td>\n",
       "      <td>47.00</td>\n",
       "      <td>2007</td>\n",
       "    </tr>\n",
       "    <tr>\n",
       "      <th>3</th>\n",
       "      <td>Pirates of the Caribbean: At World's End</td>\n",
       "      <td>Disney</td>\n",
       "      <td>45.0</td>\n",
       "      <td>74.0</td>\n",
       "      <td>Rescue</td>\n",
       "      <td>Action</td>\n",
       "      <td>4362.0</td>\n",
       "      <td>114.7</td>\n",
       "      <td>26302.0</td>\n",
       "      <td>309.42</td>\n",
       "      <td>654.00</td>\n",
       "      <td>963.42</td>\n",
       "      <td>300.0</td>\n",
       "      <td>321.14</td>\n",
       "      <td>38.23</td>\n",
       "      <td>2007</td>\n",
       "    </tr>\n",
       "    <tr>\n",
       "      <th>4</th>\n",
       "      <td>Harry Potter and the Order of the Phoenix</td>\n",
       "      <td>Warner Bros</td>\n",
       "      <td>78.0</td>\n",
       "      <td>82.0</td>\n",
       "      <td>Quest</td>\n",
       "      <td>Adventure</td>\n",
       "      <td>4285.0</td>\n",
       "      <td>77.1</td>\n",
       "      <td>17998.0</td>\n",
       "      <td>292.00</td>\n",
       "      <td>647.88</td>\n",
       "      <td>939.89</td>\n",
       "      <td>150.0</td>\n",
       "      <td>626.59</td>\n",
       "      <td>51.40</td>\n",
       "      <td>2007</td>\n",
       "    </tr>\n",
       "  </tbody>\n",
       "</table>\n",
       "</div>"
      ],
      "text/plain": [
       "                                       Movie   LeadStudio  RottenTomatoes  \\\n",
       "0                               Spider-Man 3         Sony            61.0   \n",
       "1                            Shrek the Third    Paramount            42.0   \n",
       "2                               Transformers    Paramount            57.0   \n",
       "3   Pirates of the Caribbean: At World's End       Disney            45.0   \n",
       "4  Harry Potter and the Order of the Phoenix  Warner Bros            78.0   \n",
       "\n",
       "   AudienceScore          Story      Genre  TheatersOpenWeek  OpeningWeekend  \\\n",
       "0           54.0  Metamorphosis     Action            4252.0           151.1   \n",
       "1           57.0          Quest  Animation            4122.0           121.6   \n",
       "2           89.0  Monster Force     Action            4011.0            70.5   \n",
       "3           74.0         Rescue     Action            4362.0           114.7   \n",
       "4           82.0          Quest  Adventure            4285.0            77.1   \n",
       "\n",
       "   BOAvgOpenWeekend  DomesticGross  ForeignGross  WorldGross  Budget  \\\n",
       "0           35540.0         336.53        554.34      890.87   258.0   \n",
       "1           29507.0         322.72        476.24      798.96   160.0   \n",
       "2           17577.0         319.25        390.46      709.71   150.0   \n",
       "3           26302.0         309.42        654.00      963.42   300.0   \n",
       "4           17998.0         292.00        647.88      939.89   150.0   \n",
       "\n",
       "   Profitability  OpenProfit  Year  \n",
       "0         345.30       58.57  2007  \n",
       "1         499.35       76.00  2007  \n",
       "2         473.14       47.00  2007  \n",
       "3         321.14       38.23  2007  \n",
       "4         626.59       51.40  2007  "
      ]
     },
     "execution_count": 4,
     "metadata": {},
     "output_type": "execute_result"
    }
   ],
   "source": [
    "mdf.head()"
   ]
  },
  {
   "cell_type": "code",
   "execution_count": 5,
   "metadata": {},
   "outputs": [
    {
     "name": "stdout",
     "output_type": "stream",
     "text": [
      "417    Harry Potter and the Deathly Hallows Part 1\n",
      "629                                    The Muppets\n",
      "Name: Movie, dtype: object\n"
     ]
    }
   ],
   "source": [
    "# Data maipulation\n",
    "\n",
    "#1 highest rated movie in Quest story type\n",
    "\n",
    "qdf = mdf[mdf['Story'] == 'Quest']\n",
    "print(qdf[ qdf['AudienceScore'] == qdf['AudienceScore'].max()]['Movie'])\n"
   ]
  },
  {
   "cell_type": "code",
   "execution_count": 6,
   "metadata": {},
   "outputs": [
    {
     "name": "stdout",
     "output_type": "stream",
     "text": [
      "Genre with the highest no. of movie releases is Comedy with  177 releases.\n"
     ]
    }
   ],
   "source": [
    "#2 genre which had highest no. of movie releases\n",
    "\n",
    "print('Genre with the highest no. of movie releases is', mdf['Genre'].value_counts().index[0], 'with ', mdf['Genre'].value_counts().iloc[0], 'releases.')\n",
    "\n",
    "#print('Genre with the highest no. of movie releases is', mdf['Genre'].value_counts().idxmax())"
   ]
  },
  {
   "cell_type": "code",
   "execution_count": 32,
   "metadata": {},
   "outputs": [
    {
     "name": "stdout",
     "output_type": "stream",
     "text": [
      "                                        Movie  Budget\n",
      "3    Pirates of the Caribbean: At World's End   300.0\n",
      "468                                   Tangled   260.0\n",
      "0                                Spider-Man 3   258.0\n",
      "710                               John Carter   250.0\n",
      "778                     The Dark Knight Rises   250.0\n"
     ]
    }
   ],
   "source": [
    "# 3 names of top 5 movies with expensive budgets\n",
    "\n",
    "big_budget = mdf[['Movie','Budget']]\n",
    "big_budget = big_budget.sort_values('Budget', ascending=False).head(5)\n",
    "print(big_budget)"
   ]
  },
  {
   "cell_type": "code",
   "execution_count": null,
   "metadata": {},
   "outputs": [],
   "source": [
    "# explore\n",
    "\n",
    "# top most big budget movie\n",
    "#big_budget = mdf[mdf['Budget'] == mdf['Budget'].max()]\n",
    "# movie = big_budget['Movie'].to_string(index=False)\n",
    "# budget = big_budget['Budget'].to_string(index=False)\n",
    "# print(f\"Top 5 movies with expensive budget {movie} with budget being {budget}\")\n",
    "\n",
    "# #1\n",
    "# for movie, budget in zip(big_budget['Movie'], big_budget['Budget']):\n",
    "#     print(f\"{movie} with a budget of {budget}\")\n",
    "\n",
    "# #2\n",
    "# big_budget = mdf[['Movie', 'Budget']]\n",
    "# big_budget = big_budget.sort_values(by='Budget', ascending=False).head(5)\n",
    "\n",
    "# # Use .iterrows() to iterate through rows\n",
    "# for _, row in big_budget.iterrows():\n",
    "#     print(f\"{row['Movie']} with a budget of {row['Budget']}\")"
   ]
  },
  {
   "cell_type": "code",
   "execution_count": 42,
   "metadata": {},
   "outputs": [
    {
     "data": {
      "image/png": "[encoded data removed]",
      "text/plain": [
       "<Figure size 640x480 with 1 Axes>"
      ]
     },
     "metadata": {},
     "output_type": "display_data"
    },
    {
     "name": "stdout",
     "output_type": "stream",
     "text": [
      "Audience Score and Critics evaluation show high correlation\n",
      "\n",
      "                AudienceScore  RottenTomatoes\n",
      "AudienceScore        1.000000        0.702908\n",
      "RottenTomatoes       0.702908        1.000000\n"
     ]
    },
    {
     "data": {
      "image/png": "[encoded data removed]",
      "text/plain": [
       "<Figure size 640x480 with 1 Axes>"
      ]
     },
     "metadata": {},
     "output_type": "display_data"
    },
    {
     "name": "stdout",
     "output_type": "stream",
     "text": [
      "Movies with negative ratings had lesser profits as compared to movies with positive ratings\n"
     ]
    }
   ],
   "source": [
    "# 4 any correspondence between the critics’ evaluation of a movie and its acceptance by the public? Find out, by plotting the net profitability of a movie against the ratings it receives on Rotten Tomatoes\n",
    "\n",
    "plt.scatter(mdf['AudienceScore'],mdf['RottenTomatoes'])\n",
    "plt.xlabel('Audience Score')\n",
    "plt.ylabel('Critics evaluation')\n",
    "plt.show()\n",
    "print('Audience Score and Critics evaluation show high correlation\\n')\n",
    "\n",
    "# correlation \n",
    "corrdf = mdf[['AudienceScore','RottenTomatoes']]\n",
    "print(corrdf.corr())\n",
    "\n",
    "plt.scatter(mdf['Profitability'],mdf['RottenTomatoes'])\n",
    "plt.xlim(0,4000)\n",
    "plt.xlabel('Profitability')\n",
    "plt.ylabel('Critics evaluation')\n",
    "plt.show()\n",
    "print('Movies with negative ratings had lesser profits as compared to movies with positive ratings')"
   ]
  },
  {
   "cell_type": "code",
   "execution_count": 10,
   "metadata": {},
   "outputs": [
    {
     "data": {
      "text/html": [
       "<div>\n",
       "<style scoped>\n",
       "    .dataframe tbody tr th:only-of-type {\n",
       "        vertical-align: middle;\n",
       "    }\n",
       "\n",
       "    .dataframe tbody tr th {\n",
       "        vertical-align: top;\n",
       "    }\n",
       "\n",
       "    .dataframe thead th {\n",
       "        text-align: right;\n",
       "    }\n",
       "</style>\n",
       "<table border=\"1\" class=\"dataframe\">\n",
       "  <thead>\n",
       "    <tr style=\"text-align: right;\">\n",
       "      <th></th>\n",
       "      <th>first_name</th>\n",
       "      <th>last_name</th>\n",
       "      <th>age</th>\n",
       "      <th>preTestScore</th>\n",
       "      <th>postTestScore</th>\n",
       "    </tr>\n",
       "  </thead>\n",
       "  <tbody>\n",
       "    <tr>\n",
       "      <th>0</th>\n",
       "      <td>Jason</td>\n",
       "      <td>Miller</td>\n",
       "      <td>42</td>\n",
       "      <td>4</td>\n",
       "      <td>25,000</td>\n",
       "    </tr>\n",
       "    <tr>\n",
       "      <th>1</th>\n",
       "      <td>Molly</td>\n",
       "      <td>Jacobson</td>\n",
       "      <td>52</td>\n",
       "      <td>24</td>\n",
       "      <td>94,000</td>\n",
       "    </tr>\n",
       "    <tr>\n",
       "      <th>2</th>\n",
       "      <td>Tina</td>\n",
       "      <td>.</td>\n",
       "      <td>36</td>\n",
       "      <td>31</td>\n",
       "      <td>57</td>\n",
       "    </tr>\n",
       "    <tr>\n",
       "      <th>3</th>\n",
       "      <td>Jake</td>\n",
       "      <td>Milner</td>\n",
       "      <td>24</td>\n",
       "      <td>.</td>\n",
       "      <td>62</td>\n",
       "    </tr>\n",
       "    <tr>\n",
       "      <th>4</th>\n",
       "      <td>Amy</td>\n",
       "      <td>Cooze</td>\n",
       "      <td>73</td>\n",
       "      <td>.</td>\n",
       "      <td>70</td>\n",
       "    </tr>\n",
       "  </tbody>\n",
       "</table>\n",
       "</div>"
      ],
      "text/plain": [
       "  first_name last_name  age preTestScore postTestScore\n",
       "0      Jason    Miller   42            4        25,000\n",
       "1      Molly  Jacobson   52           24        94,000\n",
       "2       Tina         .   36           31            57\n",
       "3       Jake    Milner   24            .            62\n",
       "4        Amy     Cooze   73            .            70"
      ]
     },
     "execution_count": 10,
     "metadata": {},
     "output_type": "execute_result"
    }
   ],
   "source": [
    "#5.1 create a df\n",
    "\n",
    "data = {\n",
    "    'first_name': ['Jason', 'Molly', 'Tina', 'Jake', 'Amy'],\n",
    "'last_name': ['Miller', 'Jacobson', \".\", 'Milner', 'Cooze'],\n",
    " 'age': [42, 52, 36, 24, 73],\n",
    "   'preTestScore': [4, 24, 31, \".\", \".\"],\n",
    "   'postTestScore': [\"25,000\", \"94,000\", 57, 62, 70]\n",
    "}\n",
    "\n",
    "df = pd.DataFrame(data)\n",
    "df"
   ]
  },
  {
   "cell_type": "code",
   "execution_count": 11,
   "metadata": {},
   "outputs": [],
   "source": [
    "#5.2 save as example.csv\n",
    "\n",
    "df.to_csv('Example.csv', index=False)"
   ]
  },
  {
   "cell_type": "code",
   "execution_count": 12,
   "metadata": {},
   "outputs": [
    {
     "name": "stdout",
     "output_type": "stream",
     "text": [
      "  first_name last_name  age preTestScore postTestScore\n",
      "0      Jason    Miller   42            4        25,000\n",
      "1      Molly  Jacobson   52           24        94,000\n",
      "2       Tina         .   36           31            57\n",
      "3       Jake    Milner   24            .            62\n",
      "4        Amy     Cooze   73            .            70\n"
     ]
    }
   ],
   "source": [
    "#5.3 read example.csv and print df\n",
    "\n",
    "example_df = pd.read_csv('Example.csv')\n",
    "print(example_df)"
   ]
  },
  {
   "cell_type": "code",
   "execution_count": 13,
   "metadata": {},
   "outputs": [
    {
     "name": "stdout",
     "output_type": "stream",
     "text": [
      "   Jason    Miller  42   4  25,000\n",
      "0  Molly  Jacobson  52  24  94,000\n",
      "1   Tina         .  36  31      57\n",
      "2   Jake    Milner  24   .      62\n",
      "3    Amy     Cooze  73   .      70\n"
     ]
    }
   ],
   "source": [
    "#5.4 read the example.csv without column heading\n",
    "\n",
    "example_df2 = pd.read_csv('Example.csv', skiprows=1)  #skip rows to omit the headers; column headers lying in 1st row\n",
    "print(example_df2)\n",
    "\n",
    "#example_df2 = pd.read_csv('Example.csv', header=None)  #header=None treats the 1st row of headers as a data; headers contain number indexing\n",
    "#print(example_df2)\n"
   ]
  },
  {
   "cell_type": "code",
   "execution_count": 14,
   "metadata": {},
   "outputs": [
    {
     "name": "stdout",
     "output_type": "stream",
     "text": [
      "                      age preTestScore postTestScore\n",
      "first_name last_name                                \n",
      "Jason      Miller      42            4        25,000\n",
      "Molly      Jacobson    52           24        94,000\n",
      "Tina       .           36           31            57\n",
      "Jake       Milner      24            .            62\n",
      "Amy        Cooze       73            .            70\n",
      "                      age preTestScore postTestScore\n",
      "first_name last_name                                \n",
      "Jason      Miller      42            4        25,000\n",
      "Molly      Jacobson    52           24        94,000\n",
      "Tina       .           36           31            57\n",
      "Jake       Milner      24            .            62\n",
      "Amy        Cooze       73            .            70\n"
     ]
    }
   ],
   "source": [
    "#5.5 read with index columns 'first name' and 'last name'\n",
    "\n",
    "example_df3 = pd.read_csv('Example.csv', index_col=(0,1))\n",
    "print(example_df3)\n",
    "\n",
    "#alternate way\n",
    "example_df3 = pd.read_csv('Example.csv')\n",
    "example_df3.set_index(['first_name', 'last_name'], inplace=True)\n",
    "print(example_df3)\n"
   ]
  },
  {
   "cell_type": "code",
   "execution_count": 15,
   "metadata": {},
   "outputs": [
    {
     "name": "stdout",
     "output_type": "stream",
     "text": [
      "   first_name  last_name    age  preTestScore  postTestScore\n",
      "0       False      False  False         False          False\n",
      "1       False      False  False         False          False\n",
      "2       False      False  False         False          False\n",
      "3       False      False  False         False          False\n",
      "4       False      False  False         False          False\n"
     ]
    }
   ],
   "source": [
    "#5.6 print the dataframe in boolean form - True for NaN/null values, False for non null values\n",
    "\n",
    "print(example_df.isnull())\n",
    "\n",
    "#print(example_df.isna().sum())  for representation"
   ]
  },
  {
   "cell_type": "code",
   "execution_count": 16,
   "metadata": {},
   "outputs": [
    {
     "data": {
      "text/html": [
       "<div>\n",
       "<style scoped>\n",
       "    .dataframe tbody tr th:only-of-type {\n",
       "        vertical-align: middle;\n",
       "    }\n",
       "\n",
       "    .dataframe tbody tr th {\n",
       "        vertical-align: top;\n",
       "    }\n",
       "\n",
       "    .dataframe thead th {\n",
       "        text-align: right;\n",
       "    }\n",
       "</style>\n",
       "<table border=\"1\" class=\"dataframe\">\n",
       "  <thead>\n",
       "    <tr style=\"text-align: right;\">\n",
       "      <th></th>\n",
       "      <th>first_name</th>\n",
       "      <th>last_name</th>\n",
       "      <th>age</th>\n",
       "      <th>preTestScore</th>\n",
       "      <th>postTestScore</th>\n",
       "    </tr>\n",
       "  </thead>\n",
       "  <tbody>\n",
       "    <tr>\n",
       "      <th>0</th>\n",
       "      <td>Jake</td>\n",
       "      <td>Milner</td>\n",
       "      <td>24</td>\n",
       "      <td>.</td>\n",
       "      <td>62</td>\n",
       "    </tr>\n",
       "    <tr>\n",
       "      <th>1</th>\n",
       "      <td>Amy</td>\n",
       "      <td>Cooze</td>\n",
       "      <td>73</td>\n",
       "      <td>.</td>\n",
       "      <td>70</td>\n",
       "    </tr>\n",
       "  </tbody>\n",
       "</table>\n",
       "</div>"
      ],
      "text/plain": [
       "  first_name last_name  age preTestScore  postTestScore\n",
       "0       Jake    Milner   24            .             62\n",
       "1        Amy     Cooze   73            .             70"
      ]
     },
     "execution_count": 16,
     "metadata": {},
     "output_type": "execute_result"
    }
   ],
   "source": [
    "#5.7 read the data by skipping 1st 3 rows and print the df\n",
    "\n",
    "example_df4 = pd.read_csv('Example.csv', skiprows=[1,2,3])  # keeping the column headers intact\n",
    "example_df4\n"
   ]
  },
  {
   "cell_type": "code",
   "execution_count": 17,
   "metadata": {},
   "outputs": [
    {
     "name": "stdout",
     "output_type": "stream",
     "text": [
      "<class 'pandas.core.frame.DataFrame'>\n",
      "RangeIndex: 5 entries, 0 to 4\n",
      "Data columns (total 5 columns):\n",
      " #   Column         Non-Null Count  Dtype \n",
      "---  ------         --------------  ----- \n",
      " 0   first_name     5 non-null      object\n",
      " 1   last_name      5 non-null      object\n",
      " 2   age            5 non-null      int64 \n",
      " 3   preTestScore   5 non-null      object\n",
      " 4   postTestScore  5 non-null      object\n",
      "dtypes: int64(1), object(4)\n",
      "memory usage: 332.0+ bytes\n"
     ]
    }
   ],
   "source": [
    "example_df.info()"
   ]
  },
  {
   "cell_type": "code",
   "execution_count": 18,
   "metadata": {},
   "outputs": [
    {
     "data": {
      "text/html": [
       "<div>\n",
       "<style scoped>\n",
       "    .dataframe tbody tr th:only-of-type {\n",
       "        vertical-align: middle;\n",
       "    }\n",
       "\n",
       "    .dataframe tbody tr th {\n",
       "        vertical-align: top;\n",
       "    }\n",
       "\n",
       "    .dataframe thead th {\n",
       "        text-align: right;\n",
       "    }\n",
       "</style>\n",
       "<table border=\"1\" class=\"dataframe\">\n",
       "  <thead>\n",
       "    <tr style=\"text-align: right;\">\n",
       "      <th></th>\n",
       "      <th>first_name</th>\n",
       "      <th>last_name</th>\n",
       "      <th>age</th>\n",
       "      <th>preTestScore</th>\n",
       "      <th>postTestScore</th>\n",
       "    </tr>\n",
       "  </thead>\n",
       "  <tbody>\n",
       "    <tr>\n",
       "      <th>0</th>\n",
       "      <td>Jason</td>\n",
       "      <td>Miller</td>\n",
       "      <td>42</td>\n",
       "      <td>4</td>\n",
       "      <td>25000</td>\n",
       "    </tr>\n",
       "    <tr>\n",
       "      <th>1</th>\n",
       "      <td>Molly</td>\n",
       "      <td>Jacobson</td>\n",
       "      <td>52</td>\n",
       "      <td>24</td>\n",
       "      <td>94000</td>\n",
       "    </tr>\n",
       "    <tr>\n",
       "      <th>2</th>\n",
       "      <td>Tina</td>\n",
       "      <td>.</td>\n",
       "      <td>36</td>\n",
       "      <td>31</td>\n",
       "      <td>57</td>\n",
       "    </tr>\n",
       "    <tr>\n",
       "      <th>3</th>\n",
       "      <td>Jake</td>\n",
       "      <td>Milner</td>\n",
       "      <td>24</td>\n",
       "      <td>.</td>\n",
       "      <td>62</td>\n",
       "    </tr>\n",
       "    <tr>\n",
       "      <th>4</th>\n",
       "      <td>Amy</td>\n",
       "      <td>Cooze</td>\n",
       "      <td>73</td>\n",
       "      <td>.</td>\n",
       "      <td>70</td>\n",
       "    </tr>\n",
       "  </tbody>\n",
       "</table>\n",
       "</div>"
      ],
      "text/plain": [
       "  first_name last_name  age preTestScore  postTestScore\n",
       "0      Jason    Miller   42            4          25000\n",
       "1      Molly  Jacobson   52           24          94000\n",
       "2       Tina         .   36           31             57\n",
       "3       Jake    Milner   24            .             62\n",
       "4        Amy     Cooze   73            .             70"
      ]
     },
     "execution_count": 18,
     "metadata": {},
     "output_type": "execute_result"
    }
   ],
   "source": [
    "#5.8  Read csv ignoring the commas in postTestScore\n",
    "\n",
    "new_df = pd.read_csv('Example.csv', thousands=',')    # thousands parameter\n",
    "new_df\n",
    "\n",
    "# df = pd.read_csv('Example.csv', dtype={'postTestScore': 'int64'}) to change data type while reading"
   ]
  },
  {
   "cell_type": "code",
   "execution_count": 19,
   "metadata": {},
   "outputs": [
    {
     "name": "stdout",
     "output_type": "stream",
     "text": [
      "<class 'pandas.core.frame.DataFrame'>\n",
      "RangeIndex: 5 entries, 0 to 4\n",
      "Data columns (total 5 columns):\n",
      " #   Column         Non-Null Count  Dtype \n",
      "---  ------         --------------  ----- \n",
      " 0   first_name     5 non-null      object\n",
      " 1   last_name      5 non-null      object\n",
      " 2   age            5 non-null      int64 \n",
      " 3   preTestScore   5 non-null      object\n",
      " 4   postTestScore  5 non-null      int64 \n",
      "dtypes: int64(2), object(3)\n",
      "memory usage: 332.0+ bytes\n"
     ]
    }
   ],
   "source": [
    "new_df.info()"
   ]
  },
  {
   "cell_type": "code",
   "execution_count": 20,
   "metadata": {},
   "outputs": [
    {
     "name": "stdout",
     "output_type": "stream",
     "text": [
      "Series in lowercase\n",
      " 0    amit\n",
      "1     bob\n",
      "2    kate\n",
      "3       a\n",
      "4       b\n",
      "5     NaN\n",
      "6     car\n",
      "7     dog\n",
      "8     cat\n",
      "dtype: object\n",
      "Series in uppercase\n",
      " 0    AMIT\n",
      "1     BOB\n",
      "2    KATE\n",
      "3       A\n",
      "4       B\n",
      "5     NaN\n",
      "6     CAR\n",
      "7     DOG\n",
      "8     CAT\n",
      "dtype: object\n",
      "Length of Series elements\n",
      " 0    4.0\n",
      "1    3.0\n",
      "2    4.0\n",
      "3    1.0\n",
      "4    1.0\n",
      "5    NaN\n",
      "6    3.0\n",
      "7    3.0\n",
      "8    3.0\n",
      "dtype: float64\n"
     ]
    }
   ],
   "source": [
    "#6.1 Create a series\n",
    "# uppercase, lowercase and len operations\n",
    "\n",
    "data = ['Amit', 'Bob', 'Kate', 'A', 'b', np.nan, 'Car', 'dog', 'cat']\n",
    "srs = pd.Series(data)\n",
    "srs       \n",
    "\n",
    "#a print all elements in lower case\n",
    "print('Series in lowercase\\n',srs.str.lower())\n",
    "\n",
    "#b print all elements in upper case\n",
    "print('Series in uppercase\\n',srs.str.upper())\n",
    "\n",
    "#c print the length of all elements\n",
    "print('Length of Series elements\\n',srs.str.len())"
   ]
  },
  {
   "cell_type": "code",
   "execution_count": 21,
   "metadata": {},
   "outputs": [
    {
     "name": "stdout",
     "output_type": "stream",
     "text": [
      "Using strip()\n",
      " 0    Atul\n",
      "1    John\n",
      "2    jack\n",
      "3     Sam\n",
      "dtype: object\n",
      "Using lstrip()\n",
      " 0     Atul\n",
      "1    John \n",
      "2    jack \n",
      "3      Sam\n",
      "dtype: object\n",
      "Using rstrip()\n",
      " 0     Atul\n",
      "1     John\n",
      "2     jack\n",
      "3      Sam\n",
      "dtype: object\n"
     ]
    }
   ],
   "source": [
    "#6.2 create a series\n",
    "# trim, lstrip, rstrip\n",
    "\n",
    "srs2 = pd.Series([' Atul', 'John ', ' jack ', 'Sam'])\n",
    "\n",
    "#a Print all elements after stripping spaces from the left and right\n",
    "print('Using strip()\\n', srs2.str.strip())\n",
    "\n",
    "#b Print all the elements after removing spaces from the left only\n",
    "print('Using lstrip()\\n', srs2.str.lstrip())\n",
    "\n",
    "#c Print all the elements after removing spaces from the right only\n",
    "print('Using rstrip()\\n', srs2.str.rstrip())"
   ]
  },
  {
   "cell_type": "code",
   "execution_count": 22,
   "metadata": {},
   "outputs": [
    {
     "name": "stdout",
     "output_type": "stream",
     "text": [
      "Split by '_':\n",
      " [['India', 'is', 'big'], ['Population', 'is', 'huge'], nan, ['Has', 'diverse', 'culture']]\n",
      "India\n",
      "is\n",
      "big\n",
      "Population\n",
      "is\n",
      "huge\n",
      "Has\n",
      "diverse\n",
      "culture\n",
      "\n",
      "\n",
      "India\n",
      "is\n",
      "big\n",
      "Population\n",
      "is\n",
      "huge\n",
      "Has\n",
      "diverse\n",
      "culture\n",
      "            0        1        2\n",
      "0       India       is      big\n",
      "1  Population       is     huge\n",
      "2         NaN      NaN      NaN\n",
      "3         Has  diverse  culture\n"
     ]
    }
   ],
   "source": [
    "#6.3  split, print series elements, split by '_' and return elements rather than a list\n",
    "\n",
    "srs3 = pd.Series(['India_is_big', 'Population_is_huge', np.nan, 'Has_diverse_culture'])\n",
    "\n",
    "# a)split the individual strings wherever ‘_’ comes and create a list out of it.\n",
    "value = srs3.str.split('_')\n",
    "print(\"Split by '_':\\n\", value.tolist())\n",
    "\n",
    "# b)Access the individual elements of a list\n",
    "for ele in value.dropna(): \n",
    "    for i in ele: print(i)\n",
    "\n",
    "print('\\n')\n",
    "# c)Expand the elements so that all individual elements get splitby ‘_’ and instead of list returns individual elements\n",
    "value1 = srs3.str.split('_')\n",
    "for ele in value1.dropna(): \n",
    "    for i in ele: print(i)\n",
    "\n",
    "# alternate way\n",
    "print(srs3.str.split('_', expand=True))"
   ]
  },
  {
   "cell_type": "code",
   "execution_count": 23,
   "metadata": {},
   "outputs": [
    {
     "name": "stdout",
     "output_type": "stream",
     "text": [
      "0        A\n",
      "1        B\n",
      "2        C\n",
      "3     AabX\n",
      "4     BacX\n",
      "5         \n",
      "6      NaN\n",
      "7     CABA\n",
      "8    XX-XX\n",
      "9      cat\n",
      "dtype: object\n"
     ]
    }
   ],
   "source": [
    "#6.4 Create a series and replace either X or dog with XX-XX\n",
    "\n",
    "srs4 = pd.Series(['A', 'B', 'C', 'AabX', 'BacX','', np.nan, 'CABA', 'dog', 'cat'])\n",
    "print(srs4.replace(to_replace = ['X','dog'], value = 'XX-XX'))\n"
   ]
  },
  {
   "cell_type": "code",
   "execution_count": 24,
   "metadata": {},
   "outputs": [
    {
     "data": {
      "text/plain": [
       "0        12\n",
       "1       -10\n",
       "2    10,000\n",
       "dtype: object"
      ]
     },
     "execution_count": 24,
     "metadata": {},
     "output_type": "execute_result"
    }
   ],
   "source": [
    "#6.5 Create a series and remove the dollars from the numeric values\n",
    "\n",
    "srs5 = pd.Series(['12', '-$10', '$10,000'])\n",
    "srs5.str.replace('$','')\n"
   ]
  },
  {
   "cell_type": "code",
   "execution_count": 25,
   "metadata": {},
   "outputs": [
    {
     "name": "stdout",
     "output_type": "stream",
     "text": [
      "yrtnuoc gib\n",
      "\n",
      "\n",
      "1    yrtnuoc gib\n",
      "dtype: object \n",
      "\n",
      "0      India1998\n",
      "1    yrtnuoc gib\n",
      "2            NaN\n",
      "dtype: object \n",
      "\n",
      "0      India1998\n",
      "1    yrtnuoc gib\n",
      "2            NaN\n",
      "dtype: object\n"
     ]
    }
   ],
   "source": [
    "#6.6 Create a series and reverse all lower case words\n",
    " \n",
    "srs6 = pd.Series(['India1998', 'big country', np.nan])\n",
    "\n",
    "for ele in srs6:\n",
    "    if isinstance(ele,str) and str(ele).islower():\n",
    "        print(ele[::-1])\n",
    "\n",
    "# alternate method\n",
    "print('\\n')\n",
    "print(srs6[srs6.str.islower() == True].str[::-1],'\\n')\n",
    "\n",
    "# to update in the series\n",
    "reversedsrs = srs6.apply(lambda ele: ele[::-1] if isinstance(ele,str) and ele.islower() else ele)\n",
    "print(reversedsrs,'\\n')\n",
    "# another way       # always handle for nan values\n",
    "print(srs6.where(~(srs6.str.islower() & srs6.notna()),srs6.str[::-1] ))       # ! is not a python operator\n"
   ]
  },
  {
   "cell_type": "code",
   "execution_count": 26,
   "metadata": {},
   "outputs": [
    {
     "name": "stdout",
     "output_type": "stream",
     "text": [
      "0    True\n",
      "1    True\n",
      "2    True\n",
      "3    True\n",
      "4    True\n",
      "dtype: bool\n"
     ]
    }
   ],
   "source": [
    "#6.7 Create pandas series and print true if the value is alphanumeric in series or false if the value is not alphanumericin series\n",
    "\n",
    "srs7 = pd.Series(['1', '2', '1a', '2b', '2003c'])\n",
    "print(srs7.str.isalnum())"
   ]
  },
  {
   "cell_type": "code",
   "execution_count": 27,
   "metadata": {},
   "outputs": [
    {
     "name": "stdout",
     "output_type": "stream",
     "text": [
      "0    False\n",
      "1    False\n",
      "2    False\n",
      "3    False\n",
      "4     True\n",
      "5     True\n",
      "6    False\n",
      "7    False\n",
      "dtype: bool\n",
      "\n",
      "\n",
      "America True\n",
      "VietnAm True\n"
     ]
    }
   ],
   "source": [
    "#6.8 Create pandas series and print true if the value is containing ‘A’\n",
    "\n",
    "srs8 = pd.Series(['1', '2', '1a', '2b', 'America', 'VietnAm','vietnam', '2003c'])\n",
    "print(srs8.str.contains('A'))\n",
    "\n",
    "print('\\n')\n",
    "\n",
    "# for getting just true values\n",
    "for ele in srs8:\n",
    "    if 'A' in ele:\n",
    "        print(ele, 'True')\n",
    "    else:\n",
    "        continue"
   ]
  },
  {
   "cell_type": "code",
   "execution_count": 28,
   "metadata": {},
   "outputs": [
    {
     "name": "stdout",
     "output_type": "stream",
     "text": [
      "1 1 1 \n"
     ]
    }
   ],
   "source": [
    "#6.9 Create pandas series and print in three columns value 0 or 1 if a or b or c exists in values\n",
    "\n",
    "srs9 = pd.Series(['a', 'a|b', np.nan, 'a|c'])\n",
    "values = ['1 ' if  ('a' in ele or 'b' in ele or 'c' in ele) else '0 ' for ele in srs9.dropna().values]\n",
    "print(''.join(values))\n",
    "#srs9.str.contains('a|b|c')"
   ]
  },
  {
   "cell_type": "code",
   "execution_count": 29,
   "metadata": {},
   "outputs": [
    {
     "name": "stdout",
     "output_type": "stream",
     "text": [
      "   key  ltable\n",
      "0  One       1\n",
      "1  Two       2 \n",
      "    key  rtable\n",
      "0  One       4\n",
      "1  Two       5\n",
      "   key  ltable  rtable\n",
      "0  One       1       4\n",
      "1  Two       2       5\n"
     ]
    }
   ],
   "source": [
    "#6.10 Create pandas dataframe having keys and ltable and rtable\n",
    "# Merge both the tables based onkey\n",
    "\n",
    "left_df = pd.DataFrame({'key': ['One', 'Two'], 'ltable': [1, 2]})\n",
    "right_df = pd.DataFrame({'key': ['One', 'Two'], 'rtable': [4, 5]})\n",
    "print(left_df,'\\n',right_df)\n",
    "\n",
    "print(pd.merge(left_df,right_df,on='key'))\n"
   ]
  }
 ],
 "metadata": {
  "kernelspec": {
   "display_name": "Python 3",
   "language": "python",
   "name": "python3"
  },
  "language_info": {
   "codemirror_mode": {
    "name": "ipython",
    "version": 3
   },
   "file_extension": ".py",
   "mimetype": "text/x-python",
   "name": "python",
   "nbconvert_exporter": "python",
   "pygments_lexer": "ipython3",
   "version": "3.11.2"
  }
 },
 "nbformat": 4,
 "nbformat_minor": 2
}
